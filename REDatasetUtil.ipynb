{
  "nbformat": 4,
  "nbformat_minor": 0,
  "metadata": {
    "colab": {
      "name": "REDatasetUtil.ipynb",
      "provenance": [],
      "collapsed_sections": [],
      "authorship_tag": "ABX9TyNCfoxhKZdU0r1zIwCHoKPd",
      "include_colab_link": true
    },
    "kernelspec": {
      "name": "python3",
      "display_name": "Python 3"
    },
    "language_info": {
      "name": "python"
    }
  },
  "cells": [
    {
      "cell_type": "markdown",
      "metadata": {
        "id": "view-in-github",
        "colab_type": "text"
      },
      "source": [
        "<a href=\"https://colab.research.google.com/github/njucs/notebook/blob/master/REDatasetUtil.ipynb\" target=\"_parent\"><img src=\"https://colab.research.google.com/assets/colab-badge.svg\" alt=\"Open In Colab\"/></a>"
      ]
    },
    {
      "cell_type": "markdown",
      "source": [
        "###**数据集预处理**"
      ],
      "metadata": {
        "id": "u9Q6PY3t_viS"
      }
    },
    {
      "cell_type": "markdown",
      "source": [
        "####网络下载（Github）"
      ],
      "metadata": {
        "id": "gXfMQzbduSWI"
      }
    },
    {
      "cell_type": "code",
      "execution_count": null,
      "metadata": {
        "id": "J1nGnkhN_n_1",
        "colab": {
          "base_uri": "https://localhost:8080/"
        },
        "outputId": "45bc3c48-b874-4781-8b25-a1fe90e5f71e"
      },
      "outputs": [
        {
          "output_type": "stream",
          "name": "stdout",
          "text": [
            "Mounted at /content/drive\n"
          ]
        }
      ],
      "source": [
        "# 授权 Colab 访问 Google Drive\n",
        "from google.colab import drive\n",
        "drive.mount('/content/drive')"
      ]
    },
    {
      "cell_type": "code",
      "source": [
        "%cd drive/MyDrive/'Colab Notebooks'/RelationExtraction/datasets\n",
        "!pwd"
      ],
      "metadata": {
        "colab": {
          "base_uri": "https://localhost:8080/"
        },
        "id": "6tM_4fcJ361I",
        "outputId": "6d254990-45aa-4619-ce35-4c68e6fe18fe"
      },
      "execution_count": null,
      "outputs": [
        {
          "output_type": "stream",
          "name": "stdout",
          "text": [
            "/content/drive/MyDrive/Colab Notebooks/RelationExtraction/datasets\n",
            "/content/drive/MyDrive/Colab Notebooks/RelationExtraction/datasets\n"
          ]
        }
      ]
    },
    {
      "cell_type": "code",
      "source": [
        "!git clone https://github.com/LiyuanLucasLiu/ReHession.git"
      ],
      "metadata": {
        "colab": {
          "base_uri": "https://localhost:8080/"
        },
        "id": "pi42Qpvt3f6X",
        "outputId": "3acbc00f-49cd-44b6-9d00-6a9956e45dea"
      },
      "execution_count": null,
      "outputs": [
        {
          "output_type": "stream",
          "name": "stdout",
          "text": [
            "Cloning into 'ReHession'...\n",
            "remote: Enumerating objects: 234, done.\u001b[K\n",
            "remote: Total 234 (delta 0), reused 0 (delta 0), pack-reused 234\u001b[K\n",
            "Receiving objects: 100% (234/234), 584.30 MiB | 15.70 MiB/s, done.\n",
            "Resolving deltas: 100% (91/91), done.\n",
            "Checking out files: 100% (48/48), done.\n"
          ]
        }
      ]
    },
    {
      "cell_type": "markdown",
      "source": [
        "####XXXX"
      ],
      "metadata": {
        "id": "CGclMBC3ud0F"
      }
    },
    {
      "cell_type": "code",
      "source": [
        ""
      ],
      "metadata": {
        "id": "vnvqbofBufjU"
      },
      "execution_count": null,
      "outputs": []
    }
  ]
}