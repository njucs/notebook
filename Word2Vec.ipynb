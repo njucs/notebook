{
  "nbformat": 4,
  "nbformat_minor": 0,
  "metadata": {
    "colab": {
      "name": "Word2Vec.ipynb",
      "provenance": [],
      "collapsed_sections": [],
      "authorship_tag": "ABX9TyPxXJuxwu3r0A50wQstN6UH",
      "include_colab_link": true
    },
    "kernelspec": {
      "name": "python3",
      "display_name": "Python 3"
    },
    "language_info": {
      "name": "python"
    },
    "accelerator": "GPU"
  },
  "cells": [
    {
      "cell_type": "markdown",
      "metadata": {
        "id": "view-in-github",
        "colab_type": "text"
      },
      "source": [
        "<a href=\"https://colab.research.google.com/github/njucs/notebook/blob/master/Word2Vec.ipynb\" target=\"_parent\"><img src=\"https://colab.research.google.com/assets/colab-badge.svg\" alt=\"Open In Colab\"/></a>"
      ]
    },
    {
      "cell_type": "markdown",
      "metadata": {
        "id": "rw9B1aQ65HeY"
      },
      "source": [
        "### **一个简化版本**"
      ]
    },
    {
      "cell_type": "code",
      "metadata": {
        "colab": {
          "base_uri": "https://localhost:8080/",
          "height": 981
        },
        "id": "fe1b9kQp5EnT",
        "outputId": "59745678-ba8c-488f-8851-3ec39b7d5a80"
      },
      "source": [
        "import torch\n",
        "import numpy as np\n",
        "import torch.nn as nn\n",
        "import torch.optim as optim\n",
        "import matplotlib.pyplot as plt\n",
        "import torch.utils.data as Data\n",
        "\n",
        "dtype = torch.FloatTensor\n",
        "device = torch.device(\"cuda\" if torch.cuda.is_available() else \"cpu\")\n",
        "\n",
        "# 文本预处理\n",
        "sentences = [\"jack like dog\", \"jack like cat\", \"jack like animal\",\n",
        "  \"dog cat animal\", \"banana apple cat dog like\", \"dog fish milk like\",\n",
        "  \"dog cat animal like\", \"jack like apple\", \"apple like\", \"jack like banana\",\n",
        "  \"apple banana jack movie book music like\", \"cat dog hate\", \"cat dog like\"]\n",
        "\n",
        "word_sequence = \" \".join(sentences).split() # ['jack', 'like', 'dog', 'jack', 'like', 'cat', 'animal',...]\n",
        "vocab = list(set(word_sequence)) # build words vocabulary\n",
        "word2idx = {w: i for i, w in enumerate(vocab)} # {'jack':0, 'like':1,...}\n",
        "\n",
        "# Word2Vec Parameters\n",
        "batch_size = 8\n",
        "embedding_size = 2  # 2 dim vector represent one word\n",
        "C = 2 # window size\n",
        "voc_size = len(vocab)\n",
        "\n",
        "# 1.\n",
        "skip_grams = []\n",
        "for idx in range(C, len(word_sequence) - C):\n",
        "  center = word2idx[word_sequence[idx]] # center word\n",
        "  context_idx = list(range(idx - C, idx)) + list(range(idx + 1, idx + C + 1)) # context word idx\n",
        "  context = [word2idx[word_sequence[i]] for i in context_idx]\n",
        "  for w in context:\n",
        "    skip_grams.append([center, w])\n",
        "\n",
        "# 2.\n",
        "'''\n",
        "由于 Word2Vec 的输入是 one-hot 表示，所以我们先构建一个对角全 1 的矩阵，\n",
        "利用 np.eye(rows) 方法，其中的参数 rows 表示全 1 矩阵的行数，\n",
        "对于这个问题来说，语料库中总共有多少个单词，就有多少行。\n",
        "然后根据 skip_grams 每行第一列的值，取出相应全 1 矩阵的行。\n",
        "将这些取出的行，append 到一个 list 中去，最终的这个 list 就是所有的样本 X。\n",
        "标签不需要 one-hot 表示，只需要类别值，所以只用把 skip_grams 中每行的第二列取出来存起来即可\n",
        "'''\n",
        "\n",
        "def make_data(skip_grams):\n",
        "  input_data = []\n",
        "  output_data = []\n",
        "  for i in range(len(skip_grams)):\n",
        "    input_data.append(np.eye(voc_size)[skip_grams[i][0]])\n",
        "    output_data.append(skip_grams[i][1])\n",
        "  return input_data, output_data\n",
        "\n",
        "# 3.\n",
        "input_data, output_data = make_data(skip_grams)\n",
        "input_data, output_data = torch.Tensor(input_data), torch.LongTensor(output_data)\n",
        "dataset = Data.TensorDataset(input_data, output_data)\n",
        "loader = Data.DataLoader(dataset, batch_size, True)\n",
        "\n",
        "# Model\n",
        "class Word2Vec(nn.Module):\n",
        "  def __init__(self):\n",
        "    super(Word2Vec, self).__init__()\n",
        "\n",
        "    # W and V is not Traspose relationship\n",
        "    self.W = nn.Parameter(torch.randn(voc_size, embedding_size).type(dtype))\n",
        "    self.V = nn.Parameter(torch.randn(embedding_size, voc_size).type(dtype))\n",
        "\n",
        "  def forward(self, X):\n",
        "    # X : [batch_size, voc_size] one-hot\n",
        "    # torch.mm only for 2 dim matrix, but torch.matmul can use to any dim\n",
        "    hidden_layer = torch.matmul(X, self.W) # hidden_layer : [batch_size, embedding_size]\n",
        "    output_layer = torch.matmul(hidden_layer, self.V) # output_layer : [batch_size, voc_size]\n",
        "    return output_layer\n",
        "\n",
        "model = Word2Vec().to(device)\n",
        "criterion = nn.CrossEntropyLoss().to(device)\n",
        "optimizer = optim.Adam(model.parameters(), lr=1e-3)\n",
        "\n",
        "# Training\n",
        "for epoch in range(2000):\n",
        "  for i, (batch_x, batch_y) in enumerate(loader):\n",
        "    batch_x = batch_x.to(device)\n",
        "    batch_y = batch_y.to(device)\n",
        "    pred = model(batch_x)\n",
        "    loss = criterion(pred, batch_y)\n",
        "    if (epoch + 1) % 1000 == 0:\n",
        "      print(epoch + 1, i, loss.item())\n",
        "    \n",
        "    optimizer.zero_grad()\n",
        "    loss.backward()\n",
        "    optimizer.step()\n",
        "\n",
        "for i, label in enumerate(vocab):\n",
        "  W, WT = model.parameters()\n",
        "  x,y = float(W[i][0]), float(W[i][1])\n",
        "  plt.scatter(x, y)\n",
        "  plt.annotate(label, xy=(x, y), xytext=(5, 2), textcoords='offset points', ha='right', va='bottom')\n",
        "plt.show()"
      ],
      "execution_count": 1,
      "outputs": [
        {
          "output_type": "stream",
          "text": [
            "1000 0 1.7036445140838623\n",
            "1000 1 2.1580426692962646\n",
            "1000 2 1.9425137042999268\n",
            "1000 3 1.9915900230407715\n",
            "1000 4 1.7320791482925415\n",
            "1000 5 1.997324824333191\n",
            "1000 6 2.2343459129333496\n",
            "1000 7 2.5416951179504395\n",
            "1000 8 2.151689291000366\n",
            "1000 9 2.2996482849121094\n",
            "1000 10 2.2089641094207764\n",
            "1000 11 2.4269649982452393\n",
            "1000 12 2.583895444869995\n",
            "1000 13 2.097383737564087\n",
            "1000 14 1.7453162670135498\n",
            "1000 15 1.5872879028320312\n",
            "1000 16 2.7771379947662354\n",
            "1000 17 2.0551986694335938\n",
            "1000 18 2.1490752696990967\n",
            "1000 19 2.22421932220459\n",
            "1000 20 1.8979086875915527\n",
            "2000 0 2.398923873901367\n",
            "2000 1 1.900920033454895\n",
            "2000 2 1.9339745044708252\n",
            "2000 3 2.286536693572998\n",
            "2000 4 1.7215046882629395\n",
            "2000 5 2.0451583862304688\n",
            "2000 6 2.176642894744873\n",
            "2000 7 1.9047738313674927\n",
            "2000 8 2.1407828330993652\n",
            "2000 9 2.187492847442627\n",
            "2000 10 1.6026495695114136\n",
            "2000 11 2.4216160774230957\n",
            "2000 12 2.1155271530151367\n",
            "2000 13 1.6203105449676514\n",
            "2000 14 2.5619282722473145\n",
            "2000 15 2.1655054092407227\n",
            "2000 16 2.2000834941864014\n",
            "2000 17 2.542330265045166\n",
            "2000 18 2.155892848968506\n",
            "2000 19 1.9843626022338867\n",
            "2000 20 2.1598613262176514\n"
          ],
          "name": "stdout"
        },
        {
          "output_type": "display_data",
          "data": {
            "image/png": "[encoded data removed]",
            "text/plain": [
              "<Figure size 432x288 with 1 Axes>"
            ]
          },
          "metadata": {
            "needs_background": "light"
          }
        }
      ]
    }
  ]
}