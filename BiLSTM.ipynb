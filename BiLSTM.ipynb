{
  "nbformat": 4,
  "nbformat_minor": 0,
  "metadata": {
    "colab": {
      "name": "BiLSTM.ipynb",
      "provenance": [],
      "collapsed_sections": [],
      "authorship_tag": "ABX9TyMIooE62doc4QCUuUDOAl2T",
      "include_colab_link": true
    },
    "kernelspec": {
      "name": "python3",
      "display_name": "Python 3"
    },
    "language_info": {
      "name": "python"
    },
    "accelerator": "GPU"
  },
  "cells": [
    {
      "cell_type": "markdown",
      "metadata": {
        "id": "view-in-github",
        "colab_type": "text"
      },
      "source": [
        "<a href=\"https://colab.research.google.com/github/njucs/notebook/blob/master/BiLSTM.ipynb\" target=\"_parent\"><img src=\"https://colab.research.google.com/assets/colab-badge.svg\" alt=\"Open In Colab\"/></a>"
      ]
    },
    {
      "cell_type": "code",
      "metadata": {
        "colab": {
          "base_uri": "https://localhost:8080/"
        },
        "id": "xtwDZfYlJNXe",
        "outputId": "508c6e90-383b-4e75-b6a2-9fbfc4629c06"
      },
      "source": [
        "import torch\n",
        "import numpy as np\n",
        "import torch.nn as nn\n",
        "import torch.optim as optim\n",
        "import torch.utils.data as Data\n",
        "\n",
        "dtype = torch.FloatTensor\n",
        "\n",
        "# 准备数据\n",
        "sentence = (\n",
        "    'GitHub Actions makes it easy to automate all your software workflows '\n",
        "    'from continuous integration and delivery to issue triage and more'\n",
        ")\n",
        "\n",
        "word2idx = {w: i for i, w in enumerate(list(set(sentence.split())))}\n",
        "idx2word = {i: w for i, w in enumerate(list(set(sentence.split())))}\n",
        "n_class = len(word2idx) # 预测下一个词其实就是个分类问题，类别数就是词表大小，此处为19\n",
        "max_len = len(sentence.split()) # 最长的句子长度，此处为21\n",
        "n_hidden = 5\n",
        "\n",
        "# 数据预处理，构建 dataset，定义 dataloader\n",
        "# input 的长度永远保持 max_len，并且循环了 max_len-1 次\n",
        "# 所以最终 input_batch 的维度是 [max_len - 1, max_len, n_class]\n",
        "# 此处是以一句话为例，如果是一个数据集，增加一个循环将每一句话同样处理放入batch中\n",
        "def make_data(sentence):\n",
        "    input_batch = []\n",
        "    target_batch = []\n",
        "\n",
        "    words = sentence.split()\n",
        "    for i in range(max_len - 1):\n",
        "        input = [word2idx[n] for n in words[:(i + 1)]] # a[:x]表示取前x个数据（不含x）\n",
        "        input = input + [0] * (max_len - len(input)) # 后面用idx 0来补齐输入，如当i=0，Github的idx是10时，此处为[10, 0, 0, ..., 0]，长度为max_len\n",
        "        target = word2idx[words[i + 1]] # target是下一个词（待预测的词）\n",
        "        input_batch.append(np.eye(n_class)[input]) # 根据input中index序列生成one-hot形式数组，每个词一个ont-hot表示，循环max_len - 1次后，最终的维度是torch.Size([20, 21, 19])\n",
        "        target_batch.append(target) # torch.Size([20])\n",
        "\n",
        "    return torch.Tensor(input_batch), torch.LongTensor(target_batch)\n",
        "\n",
        "# input_batch: [max_len - 1, max_len, n_class]\n",
        "input_batch, target_batch = make_data(sentence)\n",
        "dataset = Data.TensorDataset(input_batch, target_batch) # 包装数据和目标张量的数据集。通过每一个 tensor 的第一个维度进行索引，因此，该类中的 tensor 第一维度必须相等\n",
        "loader = Data.DataLoader(dataset, 16, True) # batch size = 16，每次迭代训练时将数据洗牌（shuffle is True）\n",
        "\n",
        "class BiLSTM(nn.Module):\n",
        "    def __init__(self):\n",
        "        super(BiLSTM, self).__init__()\n",
        "        self.lstm = nn.LSTM(input_size=n_class, hidden_size=n_hidden, bidirectional=True)\n",
        "        # 全连接层做分类\n",
        "        # 接BiLSTM，故n_hidden * 2\n",
        "        self.fc = nn.Linear(n_hidden * 2, n_class)\n",
        "\n",
        "    def forward(self, X):\n",
        "        # X: [batch_size, max_len, n_class]\n",
        "        batch_size = X.shape[0]\n",
        "        input = X.transpose(0, 1)  # input : [max_len, batch_size, n_class]\n",
        "\n",
        "        # 按照LSTM网络的初始化要求，随机初始化 hidden_state 和 cell_state\n",
        "        hidden_state = torch.randn(1*2, batch_size, n_hidden)   # [num_layers(=1) * num_directions(=2), batch_size, n_hidden]\n",
        "        cell_state = torch.randn(1*2, batch_size, n_hidden)     # [num_layers(=1) * num_directions(=2), batch_size, n_hidden]\n",
        "\n",
        "        # h 和 c 本例子不需要使用，故直接忽略\n",
        "        # outputs = [seq_len (max_len), batch_size, hidden_size * num_directions]\n",
        "        outputs, (_, _) = self.lstm(input, (hidden_state, cell_state))\n",
        "        outputs = outputs[-1]  # 只需要取最后一个输出即可 [batch_size, n_hidden * 2]\n",
        "        model = self.fc(outputs)  # model : [batch_size, n_class]\n",
        "        return model\n",
        "\n",
        "model = BiLSTM()\n",
        "criterion = nn.CrossEntropyLoss()\n",
        "optimizer = optim.Adam(model.parameters(), lr=0.001)\n",
        "\n",
        "# Training\n",
        "for epoch in range(10000):\n",
        "    for x, y in loader:\n",
        "      pred = model(x)\n",
        "      loss = criterion(pred, y)\n",
        "      if (epoch + 1) % 1000 == 0:\n",
        "          print('Epoch:', '%04d' % (epoch + 1), 'cost =', '{:.6f}'.format(loss))\n",
        "\n",
        "      optimizer.zero_grad()\n",
        "      loss.backward()\n",
        "      optimizer.step()\n",
        "\n",
        "# Pred\n",
        "predict = model(input_batch).data.max(1, keepdim=True)[1] # 按维度 1 返回最大值，并且返回索引，keepdim = True 表示输出和输入的维度一样（不会压缩维度）\n",
        "print(sentence)\n",
        "print([idx2word[n.item()] for n in predict.squeeze()])"
      ],
      "execution_count": 1,
      "outputs": [
        {
          "output_type": "stream",
          "text": [
            "Epoch: 1000 cost = 1.941703\n",
            "Epoch: 1000 cost = 2.065655\n",
            "Epoch: 2000 cost = 1.316938\n",
            "Epoch: 2000 cost = 1.289267\n",
            "Epoch: 3000 cost = 0.939728\n",
            "Epoch: 3000 cost = 0.851929\n",
            "Epoch: 4000 cost = 0.771056\n",
            "Epoch: 4000 cost = 0.502699\n",
            "Epoch: 5000 cost = 0.536494\n",
            "Epoch: 5000 cost = 0.576204\n",
            "Epoch: 6000 cost = 0.496226\n",
            "Epoch: 6000 cost = 0.286410\n",
            "Epoch: 7000 cost = 0.393373\n",
            "Epoch: 7000 cost = 0.422419\n",
            "Epoch: 8000 cost = 0.340095\n",
            "Epoch: 8000 cost = 0.974846\n",
            "Epoch: 9000 cost = 0.367620\n",
            "Epoch: 9000 cost = 0.556251\n",
            "Epoch: 10000 cost = 0.344123\n",
            "Epoch: 10000 cost = 0.136877\n",
            "GitHub Actions makes it easy to automate all your software workflows from continuous integration and delivery to issue triage and more\n",
            "['makes', 'makes', 'it', 'easy', 'to', 'automate', 'all', 'your', 'workflows', 'workflows', 'from', 'continuous', 'integration', 'and', 'delivery', 'to', 'issue', 'triage', 'and', 'more']\n"
          ],
          "name": "stdout"
        }
      ]
    }
  ]
}