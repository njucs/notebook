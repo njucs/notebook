{
  "nbformat": 4,
  "nbformat_minor": 0,
  "metadata": {
    "colab": {
      "name": "BiLSTM.ipynb",
      "provenance": [],
      "collapsed_sections": [],
      "authorship_tag": "ABX9TyMDqimX9v1WssGzfjcdv8jE",
      "include_colab_link": true
    },
    "kernelspec": {
      "name": "python3",
      "display_name": "Python 3"
    },
    "language_info": {
      "name": "python"
    }
  },
  "cells": [
    {
      "cell_type": "markdown",
      "metadata": {
        "id": "view-in-github",
        "colab_type": "text"
      },
      "source": [
        "<a href=\"https://colab.research.google.com/github/njucs/notebook/blob/master/BiLSTM.ipynb\" target=\"_parent\"><img src=\"https://colab.research.google.com/assets/colab-badge.svg\" alt=\"Open In Colab\"/></a>"
      ]
    },
    {
      "cell_type": "code",
      "metadata": {
        "id": "xtwDZfYlJNXe"
      },
      "source": [
        "import torch\n",
        "import numpy as np\n",
        "import torch.nn as nn\n",
        "import torch.optim as optim\n",
        "import torch.utils.data as Data\n",
        "\n",
        "dtype = torch.FloatTensor\n",
        "\n",
        "sentence = (\n",
        "    'GitHub Actions makes it easy to automate all your software workflows '\n",
        "    'from continuous integration and delivery to issue triage and more'\n",
        ")\n",
        "\n",
        "word2idx = {w: i for i, w in enumerate(list(set(sentence.split())))}\n",
        "idx2word = {i: w for i, w in enumerate(list(set(sentence.split())))}\n",
        "n_class = len(word2idx) # classification problem\n",
        "max_len = len(sentence.split())\n",
        "n_hidden = 5\n",
        "\n",
        "def make_data(sentence):\n",
        "    input_batch = []\n",
        "    target_batch = []\n",
        "\n",
        "    words = sentence.split()\n",
        "    for i in range(max_len - 1):\n",
        "        input = [word2idx[n] for n in words[:(i + 1)]]\n",
        "        input = input + [0] * (max_len - len(input))\n",
        "        target = word2idx[words[i + 1]]\n",
        "        input_batch.append(np.eye(n_class)[input])\n",
        "        target_batch.append(target)\n",
        "\n",
        "    return torch.Tensor(input_batch), torch.LongTensor(target_batch)\n",
        "\n",
        "# input_batch: [max_len - 1, max_len, n_class]\n",
        "input_batch, target_batch = make_data(sentence)\n",
        "dataset = Data.TensorDataset(input_batch, target_batch)\n",
        "loader = Data.DataLoader(dataset, 16, True)\n",
        "\n",
        "class BiLSTM(nn.Module):\n",
        "    def __init__(self):\n",
        "        super(BiLSTM, self).__init__()\n",
        "        self.lstm = nn.LSTM(input_size=n_class, hidden_size=n_hidden, bidirectional=True)\n",
        "        # fc\n",
        "        self.fc = nn.Linear(n_hidden * 2, n_class)\n",
        "\n",
        "    def forward(self, X):\n",
        "        # X: [batch_size, max_len, n_class]\n",
        "        batch_size = X.shape[0]\n",
        "        input = X.transpose(0, 1)  # input : [max_len, batch_size, n_class]\n",
        "\n",
        "        hidden_state = torch.randn(1*2, batch_size, n_hidden)   # [num_layers(=1) * num_directions(=2), batch_size, n_hidden]\n",
        "        cell_state = torch.randn(1*2, batch_size, n_hidden)     # [num_layers(=1) * num_directions(=2), batch_size, n_hidden]\n",
        "\n",
        "        outputs, (_, _) = self.lstm(input, (hidden_state, cell_state))\n",
        "        outputs = outputs[-1]  # [batch_size, n_hidden * 2]\n",
        "        model = self.fc(outputs)  # model : [batch_size, n_class]\n",
        "        return model\n",
        "\n",
        "model = BiLSTM()\n",
        "criterion = nn.CrossEntropyLoss()\n",
        "optimizer = optim.Adam(model.parameters(), lr=0.001)\n",
        "\n",
        "# Training\n",
        "for epoch in range(10000):\n",
        "    for x, y in loader:\n",
        "      pred = model(x)\n",
        "      loss = criterion(pred, y)\n",
        "      if (epoch + 1) % 1000 == 0:\n",
        "          print('Epoch:', '%04d' % (epoch + 1), 'cost =', '{:.6f}'.format(loss))\n",
        "\n",
        "      optimizer.zero_grad()\n",
        "      loss.backward()\n",
        "      optimizer.step()\n",
        "\n",
        "# Pred\n",
        "predict = model(input_batch).data.max(1, keepdim=True)[1]\n",
        "print(sentence)\n",
        "print([idx2word[n.item()] for n in predict.squeeze()])"
      ],
      "execution_count": null,
      "outputs": []
    }
  ]
}